{
 "cells": [
  {
   "cell_type": "markdown",
   "metadata": {},
   "source": [
    "<a href=\"https://www.nvidia.com/dli\"> <img src=\"DLI Header.png\" alt=\"Header\" style=\"width: 400px;\"/> </a>"
   ]
  },
  {
   "cell_type": "markdown",
   "metadata": {},
   "source": [
    "# Data Augmentation and Segmentation with Generative Networks for Medical Imaging\n",
    "## Outline\n",
    "This lab demonstrates two use cases for Generative Adversarial Networks (GANs) in medical imaging:\n",
    "<ol>\n",
    "    <li> Generating randomized brain MRI images from random noise using a GAN.</li>\n",
    "    <li> Translating from one image domain to another with a conditional GAN (pix2pix).</li>\n",
    "    This technique is applied to various tasks including\n",
    "    <ol>\n",
    "        <li> Segmenting brain anatomy (white matter, gray matter, CSF). </li>\n",
    "        <li> Generating brain MRI from the segmentation. </li>\n",
    "        <li> Augmenting the translation of image modalities in a limited dataset to perform ischemic stroke segmentation. </li>\n",
    "    </ol>\n",
    "</ol>\n"
   ]
  },
  {
   "cell_type": "markdown",
   "metadata": {},
   "source": [
    "## Background\n",
    "Generative Adversarial Networks (GAN) were first introduced by Ian Goodfellow et al, in 2014 (https://papers.nips.cc/paper/5423-generative-adversarial-nets.pdf).\n",
    "\n",
    "It was shown that random handwritten digits could be generated from the generator network of a GAN, after training on the MNIST dataset (http://yann.lecun.com/exdb/mnist/).\n",
    "\n",
    "### Preparation\n",
    "We first need to load some libraries and perform a few final data preparation steps. You can read on in the notebook while these steps are running."
   ]
  },
  {
   "cell_type": "code",
   "execution_count": null,
   "metadata": {},
   "outputs": [],
   "source": [
    "import os\n",
    "import time\n",
    "import numpy as np\n",
    "import glob\n",
    "import matplotlib.pyplot as plt\n",
    "import PIL\n",
    "import imageio\n",
    "import SimpleITK as sitk\n",
    "from IPython import display\n",
    "from IPython.display import Image\n",
    "!./datasetup.sh"
   ]
  },
  {
   "cell_type": "markdown",
   "metadata": {},
   "source": [
    "## 1. Generating random T1-weighted brain MRI\n",
    "\n",
    "We will first train a GAN to generate random 2-dimensional T1-weighted brain MRIs.\n",
    "\n",
    "The T1-weighted brain MRIs will be generated from random noise, shown as \"z\" in the picture below.\n",
    "\n",
    "<img src=\"GAN1.png\">\n",
    "\n",
    "We train the Generator and Discriminator concurrently.\n",
    "\n",
    "The Discriminator is trained to distinguish \"real\" and \"generated\" brain MRIs, and the Generator is trained to win over the Discrimiator, i.e., generate more realistic brain MRI so that the Discriminator cannot distinguish them from real brain MRIs.\n",
    "\n",
    "The code is here: <a href = \"gan2d.py\">`gan2d.py`</a>.\n",
    "\n",
    "We start from 145th epoch, to save time - the network will learn to generate realistic brain MRI images after about 150 epochs, and currently training one epoch takes about a minute.<br/>\n",
    "You can let it train for about 5 minutes, or you can also <u style=\"color:red\">Stop training</u> (by using the stop button \t&#11035; in the toolbar above). We will need to interrupt training a few times in the rest of the lesson, so please make note."
   ]
  },
  {
   "cell_type": "code",
   "execution_count": null,
   "metadata": {},
   "outputs": [],
   "source": [
    "!python3 gan2d.py --data_dir=/dli/data/png/t1 --restore_checkpoints=True --start_epoch=145"
   ]
  },
  {
   "cell_type": "markdown",
   "metadata": {},
   "source": [
    "Let's see how the images get more realistic as the epochs progress."
   ]
  },
  {
   "cell_type": "code",
   "execution_count": null,
   "metadata": {},
   "outputs": [],
   "source": [
    "with imageio.get_writer('dcgan.gif', mode='I') as writer:\n",
    "    filenames = glob.glob('/dli/data/gan2d/gan2d_images/image*.png')\n",
    "    filenames = sorted(filenames)\n",
    "    last = -1\n",
    "    for i,filename in enumerate(filenames):\n",
    "        frame = i\n",
    "        if round(frame) > round(last):\n",
    "            last = frame\n",
    "        else:\n",
    "            continue\n",
    "        image = imageio.imread(filename)\n",
    "        writer.append_data(image)\n",
    "    image = imageio.imread(filename)\n",
    "    writer.append_data(image)\n",
    "    \n",
    "# this is a hack to display the gif inside the notebook\n",
    "last = os.system('cp dcgan.gif dcgan.gif.png')\n",
    "# display\n",
    "Image(filename=\"dcgan.gif.png\")"
   ]
  },
  {
   "cell_type": "markdown",
   "metadata": {},
   "source": [
    "## 2. Generate brain segmentation from T1-weighted MRI.\n",
    "\n",
    "We used a GAN to generate random brain MRIs. However, we may want to have more control over what we generate.\n",
    "\n",
    "A conditional GAN generates an output based on a given input.\n",
    "\n",
    "For instance, \"pix2pix\" (https://arxiv.org/abs/1611.07004) conditional GAN gets an image as input and generates a new image as output.\n",
    "\n",
    "In the original \"pix2pix\" paper, the authors demonstrated translating street scenes to labels and vice versa, or black-and-white images to color images, for example.\n",
    "\n",
    "We will now segment T1-weighted brain MRI using the pix2pix conditional GAN.\n",
    "\n",
    "Training the conditional GAN is mostly similar to training the original GAN, except we give an image input to the generator, whereas in the original GAN images were generated from a noise vector.\n",
    "\n",
    "<img src=\"GAN2.png\">\n",
    "\n",
    "As above, we should <u style=\"color:red\">stop training</u> after about two epochs (one epoch takes about 1.5 mins) due to time constraints. (NOTE: In subsequent exercises, the final image produced will be labeled with a number one lower than its corresponding epoch. If you stop training after epoch 5, for example, the final image will be saved as `image_at_epoch_0004.png`. Adjust `Image` commands appropriately.)"
   ]
  },
  {
   "cell_type": "code",
   "execution_count": null,
   "metadata": {},
   "outputs": [],
   "source": [
    "!python3 pix2pix2d.py --data_dir_A=/dli/data/nifti-png3ch/t1/ --data_dir_B=/dli/data/nifti-png3ch/seg/ --use_partial_data=True"
   ]
  },
  {
   "cell_type": "markdown",
   "metadata": {},
   "source": [
    "Let's see how the segmentation looks like - it'll learn to generate images much closer to the ground truth when we train for more epochs. You can change the final digit in the filename (default is 0) to 0-9 to see different examples."
   ]
  },
  {
   "cell_type": "code",
   "execution_count": null,
   "metadata": {},
   "outputs": [],
   "source": [
    "Image(filename='image_at_epoch_0001-0.png') "
   ]
  },
  {
   "cell_type": "markdown",
   "metadata": {},
   "source": [
    "## 3. Generating T1-weighted brain MRI from segmentation label.\n",
    "\n",
    "The conditional GAN framework is quite powerful, in that input and output can be anything if they are related.\n",
    "\n",
    "Instead of generating brain segmentation from T1-weighted image (like in a normal image segmentation network), this time we will generate T1-weighted brain MRI from a segmentation.\n",
    "\n",
    "We can do this by simply reversing the input and output to generate brain MRIs from labels.\n",
    "\n",
    "<img src=\"GAN3.png\">\n",
    "\n",
    "Again, <u style=\"color:red\">Stop training</u> after 2 epochs (takes about 3 minutes) due to time limits."
   ]
  },
  {
   "cell_type": "code",
   "execution_count": null,
   "metadata": {},
   "outputs": [],
   "source": [
    "!python3 pix2pix2d.py --data_dir_A=/dli/data/nifti-png3ch/seg/ --data_dir_B=/dli/data/nifti-png3ch/t1/ --use_partial_data=True"
   ]
  },
  {
   "cell_type": "markdown",
   "metadata": {},
   "source": [
    "Let's see how the generated images look. <br/>\n",
    "After training about 2 epochs, it already learned to generate the brain from brain segmentation, but the areas other than the brain are blurry."
   ]
  },
  {
   "cell_type": "code",
   "execution_count": null,
   "metadata": {
    "scrolled": true
   },
   "outputs": [],
   "source": [
    "Image(filename='image_at_epoch_0001-0.png') "
   ]
  },
  {
   "cell_type": "markdown",
   "metadata": {},
   "source": [
    "## 4. Ischemic stroke segmentation from limited data\n",
    "\n",
    "From http://www.isles-challenge.org/:\n",
    "\n",
    "<blockquote>Ischemic Stroke Lesion Segmentation (ISLES) challenge (http://www.isles-challenge.org/) is a \n",
    "medical image segmentation challenge at the International Conference on Medical Image Computing \n",
    "and Computer Assisted Intervention (MICCAI) 2018\n",
    "This year ISLES 2018 asks for methods that allow the segmentation of stroke lesions based on \n",
    "acute CT perfusion data. Therefore, a new data set of 103 stroke patients and matching expert \n",
    "segmentations are provided.\n",
    "\n",
    "Training data set consists of 63 patients. Some patient cases have two slabs to cover the stroke\n",
    "lesion. These are non-, or partially-overlapping brain regions. Slabs per patient are indicated\n",
    "with letters \"A\" and \"B\" for first and second slab, respectively. The mapping between case number \n",
    "and training name is also provided at SMIR (e.g. Train_40_A = case 64; Train_40_B = case 65).\n",
    "Developed techniques will be evaluated by means of a testing set including 40 stroke cases.\n",
    "Acquired modalities are described in detail below.\n",
    "\n",
    "GOLD STANDARD: DIFFUSION MAPS (DWI)\n",
    "Infarcted brain tissue can be recognised as hyperintense regions of the DWI trace images (DWI maps). \n",
    "Provided ground-truth segmentation maps were manually drawn on those scans.\n",
    "\n",
    "PERFUSION MAPS (CBF, MTT, CBV, TMAX, CTP SOURCE DATA)\n",
    "To assess cerebral perfusion, a contrast agent (CA) is administered to the patient and its temporal\n",
    "change is captured in dynamic scans acquired 1-2 sec apart. Subsequently, perfusion maps are derived\n",
    "from these raw data for clinical interpretation. Different maps aim to yield different information, \n",
    "and the most commonly calculated maps include cerebral blood volume (CBV), cerebral blood flow (CBF), \n",
    "and time to peak of the residue function (Tmax). These perfusion maps serve as input to the algorithms.\n",
    "</blockquote>"
   ]
  },
  {
   "cell_type": "markdown",
   "metadata": {},
   "source": [
    "It is a challenging task - input data is high-dimensional, and the dimension varies patient by patient.\n",
    "Let's first have a look into the dataset."
   ]
  },
  {
   "cell_type": "code",
   "execution_count": null,
   "metadata": {},
   "outputs": [],
   "source": [
    "!ls /dli/data/ISLES2018/TRAINING"
   ]
  },
  {
   "cell_type": "code",
   "execution_count": null,
   "metadata": {},
   "outputs": [],
   "source": [
    "!ls /dli/data/ISLES2018/TESTING"
   ]
  },
  {
   "cell_type": "markdown",
   "metadata": {},
   "source": [
    "Training dataset has 94 cases, and testing dataset has 62 cases.<br/>\n",
    "Let's see how each case looks like."
   ]
  },
  {
   "cell_type": "code",
   "execution_count": null,
   "metadata": {},
   "outputs": [],
   "source": [
    "!ls /dli/data/ISLES2018/TRAINING/case_1"
   ]
  },
  {
   "cell_type": "code",
   "execution_count": null,
   "metadata": {},
   "outputs": [],
   "source": [
    "!ls /dli/data/ISLES2018/TESTING/case_1"
   ]
  },
  {
   "cell_type": "markdown",
   "metadata": {},
   "source": [
    "In Training dataset we have CT (SMIR.Brain.XX.O.CT.339203), MR Perfusion (SMIR.Brain.XX.O.MR_4DPWI.339202), and other perfusion maps derived from that (CBF: cerebral blood flow; CBV: cerebral blood volume; MTT: mean transit time; Tmax: time to peak of the residue function). We also have ground-truth stroke segmentation label (SMIR.Brain.XX.O.OT.339208).\n",
    "\n",
    "In Testing dataset we have CT (SMIR.Brain.XX.O.CT.346291), then CT Perfusion instead of MR (SMIR.Brain.XX.O.CT_4DPWI.346290), and same sort of perfusion maps derived from that (CBF, CBV, MTT, Tmax)."
   ]
  },
  {
   "cell_type": "markdown",
   "metadata": {},
   "source": [
    "The background of this setting is (correct me if I'm wrong if you're a neuroradiologist) - <br/>\n",
    "CT image is easier and faster to obtain than MRI. <br/>\n",
    "Stroke, specifically dead tissue, needs to be diagnosed fast in order to decide how to treat the patient, and so CT is used in the operating room over MRI. <br/>\n",
    "However, stroke is best seen on MRI, so the gold standard is diffusion weighted MRI.\n",
    "\n",
    "From http://www.isles-challenge.org/:\n",
    "\n",
    "<blockquote>Infarcted brain tissue can be recognised as hyperintense regions of the DWI trace images (DWI maps). Provided ground-truth segmentation maps were manually drawn on those scans.\n",
    "</blockquote>\n",
    "\n",
    "The main goal of this challenge is to segment stroke from CT source images, which will have real clinical benefit."
   ]
  },
  {
   "cell_type": "markdown",
   "metadata": {},
   "source": [
    "Now, let's see the dimensions of each image."
   ]
  },
  {
   "cell_type": "code",
   "execution_count": null,
   "metadata": {},
   "outputs": [],
   "source": [
    "def read_nii_from_file(filename, is_label=False):\n",
    "    sitk_niim = sitk.ReadImage(filename)\n",
    "    niim = sitk.GetArrayFromImage(sitk_niim)\n",
    "    return niim"
   ]
  },
  {
   "cell_type": "code",
   "execution_count": null,
   "metadata": {},
   "outputs": [],
   "source": [
    "for diri in glob.glob('/dli/data/ISLES2018/TRAINING/case_1/*'):\n",
    "    imfname = diri.split('/')[-1] + '.nii'\n",
    "    imfulldir = os.path.join(diri, imfname)\n",
    "    im = read_nii_from_file(imfulldir)\n",
    "    print(imfname, im.shape)"
   ]
  },
  {
   "cell_type": "code",
   "execution_count": null,
   "metadata": {},
   "outputs": [],
   "source": [
    "for diri in glob.glob('/dli/data/ISLES2018/TESTING/case_1/*'):\n",
    "    imfname = diri.split('/')[-1] + '.nii'\n",
    "    imfulldir = os.path.join(diri, imfname)\n",
    "    im = read_nii_from_file(imfulldir)\n",
    "    print(imfname, im.shape)"
   ]
  },
  {
   "cell_type": "markdown",
   "metadata": {},
   "source": [
    "We can see that the (x, y) dimension of the 3D images are consistant as 256x256, but the z dimension varies from case to case.<br/>\n",
    "Also, the perfusion image's 4th dimension varies from case to case.\n",
    "\n",
    "Now the task is to generate stroke segmentation from this high-dimensional data.\n",
    "\n",
    "Let's see how the images look like:"
   ]
  },
  {
   "cell_type": "code",
   "execution_count": null,
   "metadata": {},
   "outputs": [],
   "source": [
    "plt.imshow(read_nii_from_file('/dli/data/ISLES2018/TRAINING/case_1/SMIR.Brain.XX.O.CT.339203/SMIR.Brain.XX.O.CT.339203.nii')[4,:,:], cmap='gray')"
   ]
  },
  {
   "cell_type": "code",
   "execution_count": null,
   "metadata": {},
   "outputs": [],
   "source": [
    "plt.imshow(read_nii_from_file('/dli/data/ISLES2018/TRAINING/case_1/SMIR.Brain.XX.O.MR_MTT.339207/SMIR.Brain.XX.O.MR_MTT.339207.nii')[4,:,:], cmap='gray')"
   ]
  },
  {
   "cell_type": "code",
   "execution_count": null,
   "metadata": {},
   "outputs": [],
   "source": [
    "plt.imshow(read_nii_from_file('/dli/data/ISLES2018/TRAINING/case_1/SMIR.Brain.XX.O.MR_Tmax.339209/SMIR.Brain.XX.O.MR_Tmax.339209.nii')[4,:,:], cmap='gray')"
   ]
  },
  {
   "cell_type": "code",
   "execution_count": null,
   "metadata": {},
   "outputs": [],
   "source": [
    "plt.imshow(read_nii_from_file('/dli/data/ISLES2018/TRAINING/case_1/SMIR.Brain.XX.O.OT.339208/SMIR.Brain.XX.O.OT.339208.nii')[4,:,:], cmap='gray')"
   ]
  },
  {
   "cell_type": "markdown",
   "metadata": {},
   "source": [
    "Since the data is high-dimensional (3D + multiple-modalities = 4D), and the stroke lesion we want to\n",
    "segment is so small, the standard segmentation algorithms don't do well.\n",
    "\n",
    "To see this, let's apply the pix2pix out of the box, which we used to segment brain anatomy, to the new task of segmenting stroke lesions."
   ]
  },
  {
   "cell_type": "markdown",
   "metadata": {},
   "source": [
    "For easier data processing and visualization, we convert the 4-dimensional perfusion image to a 3-dimensional image, by Principal Component Analysis (PCA).\n",
    "\n",
    "From Wikipedia (https://en.wikipedia.org/wiki/Dimensionality_reduction)\n",
    "<blockquote>Principal component analysis (PCA):<br/>\n",
    "The main linear technique for dimensionality reduction, principal component analysis, performs a linear mapping of the data to a lower-dimensional space in such a way that the variance of the data in the low-dimensional representation is maximized. In practice, the covariance (and sometimes the correlation) matrix of the data is constructed and the eigenvectors on this matrix are computed. The eigenvectors that correspond to the largest eigenvalues (the principal components) can now be used to reconstruct a large fraction of the variance of the original data. Moreover, the first few eigenvectors can often be interpreted in terms of the large-scale physical behavior of the system. The original space (with dimension of the number of points) has been reduced (with data loss, but hopefully retaining the most important variance) to the space spanned by a few eigenvectors.\n",
    "</blockquote>"
   ]
  },
  {
   "cell_type": "markdown",
   "metadata": {},
   "source": [
    "First we sample 2D images from the 4D ISLES data.<br/>\n",
    "We select CT, Perfusion image, Tmax and convert them to RGB channels, where the dimension of the perfusion image is redueced from 4D to 3D using PCA.<br/>\n",
    "The code for sampling the images is here: <a href = \"utils/isles18_sample_2d.ipynb\">utils/isles18_sample_2d.ipynb</a>.\n",
    "\n",
    "Let's <u style=\"color:red\">stop training</u> after about 15 epochs (~ 10 min)."
   ]
  },
  {
   "cell_type": "code",
   "execution_count": null,
   "metadata": {
    "scrolled": true
   },
   "outputs": [],
   "source": [
    "!python3 pix2pix2d.py --data_dir_A=/dli/data/training_png/img --data_dir_B=/dli/data/training_png/seg --output_file_dir=isles_imgtoseg1 --save_slides_with_lesion_only=True"
   ]
  },
  {
   "cell_type": "markdown",
   "metadata": {},
   "source": [
    "Now let's see some results."
   ]
  },
  {
   "cell_type": "code",
   "execution_count": null,
   "metadata": {},
   "outputs": [],
   "source": [
    "Image(filename='isles_imgtoseg1/image_at_epoch_0014-0.png') "
   ]
  },
  {
   "cell_type": "code",
   "execution_count": null,
   "metadata": {},
   "outputs": [],
   "source": [
    "Image(filename='isles_imgtoseg1/image_at_epoch_0014-5.png') "
   ]
  },
  {
   "cell_type": "markdown",
   "metadata": {},
   "source": [
    "The performance isn't ideal; in fact, it's not segmenting anything!<br/>\n",
    "One of the reasons is that in pix2pix algorithm discriminator is trained patch-wise (70x70 size patches in 2D case), and so the loss becomes too unbalanced and small with this task - there is only a quite small stroke region while most of the image is background (non-stroke region).\n",
    "\n",
    "In order to mitigate this problem we first translate from one image modality to another, and transfer learn from that to segment strokes.\n",
    "\n",
    "We sample image-modality-1: [CT/Perfusion/Tmax] to image-modality-2: [CBF/CBV/MTT], then translate [CT/Perfusion/Tmax] to [Perfusion-first-image/stroke-label/Perfusion-last-image].<br/>\n",
    "Perfusion images are 4D: their sizes are 256x256x20x40\n",
    "With Perfusion-first, we take the first image of Perfusion in its 4th dimension and with Perfusion-last, the last image in its 4th dimension. \n",
    "\n",
    "We do [Perfusion-first-image/stroke-label/Perfusion-last-images] so the target is more reasonably balanced and loss doesn't become too small. But we also randomly switch the 1st and 3rd channel of the target domain (perf-1st, perf-last), to introduce noise - making sure they are not our main target to optimize for - our main target is the stroke region.\n",
    "\n",
    "<img src=\"GAN4.png\">\n",
    "\n",
    "Now let's train what translating [CT/Perfusion/Tmax] to [CBF/CBV/MTT] looks like, which we will later use to transfer-learn to translate [CT/Perfusion/Tmax] to [Perfusion-first-image/stroke-label/Perfusion-last-image] for our final stroke segmentation.\n",
    "\n",
    "Let's <u style=\"color:red\">stop training</u> after about 15 epochs (~10 min)."
   ]
  },
  {
   "cell_type": "code",
   "execution_count": null,
   "metadata": {},
   "outputs": [],
   "source": [
    "!python3 pix2pix2d.py --data_dir_A=/dli/data/training_png/img --data_dir_B=/dli/data/training_png/img2 --output_file_dir=isles_imgtoimg2 --save_slides_with_lesion_only=True"
   ]
  },
  {
   "cell_type": "markdown",
   "metadata": {},
   "source": [
    "Let's see the images."
   ]
  },
  {
   "cell_type": "code",
   "execution_count": null,
   "metadata": {},
   "outputs": [],
   "source": [
    "Image(filename='isles_imgtoimg2/image_at_epoch_0014-0.png')"
   ]
  },
  {
   "cell_type": "code",
   "execution_count": null,
   "metadata": {},
   "outputs": [],
   "source": [
    "Image(filename='isles_imgtoimg2/image_at_epoch_0014-5.png')"
   ]
  },
  {
   "cell_type": "markdown",
   "metadata": {},
   "source": [
    "To give the transfer learning exercises below the best possible pretrained models to work with, we already trained several models for 200 epochs. To prepare the files for use, run the command below once."
   ]
  },
  {
   "cell_type": "code",
   "execution_count": null,
   "metadata": {},
   "outputs": [],
   "source": [
    "!./checkpointsetup.sh"
   ]
  },
  {
   "cell_type": "markdown",
   "metadata": {},
   "source": [
    "Let's compare the advantages of a pretrained model on segmentation from image-modality-1 to [Perfusion-first/Label/Perfusion-last]. We use the flag,\n",
    "\n",
    "`--swap_noise_imB_channel_13=True` so we randomly swap first and last channel (except on the stroke label) to add noise to those channels so the network can learn to focus on segmenting the stroke label. Try it without this option, too.\n",
    "\n",
    "In the second command, we use\n",
    "\n",
    "`--restore_checkpoints=True` to enable transfer learning (or loading of a pretrained model).\n",
    "\n",
    "Run each of these commands for 2 epochs, then <u style=\"color:red\">stop training</u>."
   ]
  },
  {
   "cell_type": "code",
   "execution_count": null,
   "metadata": {},
   "outputs": [],
   "source": [
    "!python3 pix2pix2d.py --data_dir_A=/dli/data/training_png/img --data_dir_B=/dli/data/training_png/seg2 --output_file_dir=isles_img2seg2 --swap_noise_imB_channel_13=True --save_slides_with_lesion_only=True"
   ]
  },
  {
   "cell_type": "code",
   "execution_count": null,
   "metadata": {},
   "outputs": [],
   "source": [
    "Image(filename='isles_img2seg2/image_at_epoch_0001-0.png') "
   ]
  },
  {
   "cell_type": "code",
   "execution_count": null,
   "metadata": {},
   "outputs": [],
   "source": [
    "Image(filename='isles_img2seg2/image_at_epoch_0001-5.png') "
   ]
  },
  {
   "cell_type": "markdown",
   "metadata": {},
   "source": [
    "To implement transfer learning from the pretrained models, we need to use the flag `--restore_checkpoints=True`. In this case, the checkpoints will be loaded from the same directory that we flag as `--output_file_dir`."
   ]
  },
  {
   "cell_type": "code",
   "execution_count": null,
   "metadata": {},
   "outputs": [],
   "source": [
    "!python3 pix2pix2d.py --data_dir_A=/dli/data/training_png/img --data_dir_B=/dli/data/training_png/seg2 --output_file_dir=/dli/data/img2label_2d --restore_checkpoints=True --swap_noise_imB_channel_13=True --save_slides_with_lesion_only=True"
   ]
  },
  {
   "cell_type": "code",
   "execution_count": null,
   "metadata": {},
   "outputs": [],
   "source": [
    "Image(filename='/dli/data/img2label_2d/image_at_epoch_0001-1.png')"
   ]
  },
  {
   "cell_type": "code",
   "execution_count": null,
   "metadata": {},
   "outputs": [],
   "source": [
    "Image(filename='/dli/data/img2label_2d/image_at_epoch_0001-9.png')"
   ]
  },
  {
   "cell_type": "markdown",
   "metadata": {},
   "source": [
    "The result will look better if we train on 3D, which will be left as an exercise.<br/>\n",
    "All the code is already there; please see below.\n",
    "\n",
    "Before we continue, let's now see how it applies to test cases when we have CT perfusion images instead of MR perfusion images."
   ]
  },
  {
   "cell_type": "code",
   "execution_count": null,
   "metadata": {},
   "outputs": [],
   "source": [
    "!./checkpointsetup_test.sh"
   ]
  },
  {
   "cell_type": "code",
   "execution_count": null,
   "metadata": {
    "scrolled": true
   },
   "outputs": [],
   "source": [
    "!python3 pix2pix2d.py --data_dir_A=/dli/data/testing_png/img --data_dir_B=/dli/data/testing_png/seg2 --test_data_dir_A=/dli/data/testing_png/img --test_data_dir_B=/dli/data/testing_png/seg2 --output_file_dir=/dli/data/img2label_2d_test --restore_checkpoints=True --train_or_test=test"
   ]
  },
  {
   "cell_type": "code",
   "execution_count": null,
   "metadata": {},
   "outputs": [],
   "source": [
    "Image(filename='/dli/data/img2label_2d_test/image_at_epoch_case_19_3ch_sli0.png')"
   ]
  },
  {
   "cell_type": "code",
   "execution_count": null,
   "metadata": {},
   "outputs": [],
   "source": [
    "Image(filename='/dli/data/img2label_2d_test/image_at_epoch_case_25_3ch_sli1.png')"
   ]
  },
  {
   "cell_type": "markdown",
   "metadata": {},
   "source": [
    "See that it successfully segments stroke from CT perfusion data. <br/>\n",
    "Please note that the \"Ground Truth\" does not show the stroke region, since it's the test dataset - not showing the answer to the challenge competitors."
   ]
  },
  {
   "cell_type": "markdown",
   "metadata": {},
   "source": [
    "## Other exercises to try\n",
    "We have included several other types of pretrained models that can be used to further experiment with the abilities of GANs. These can be used as pretrained models, or implemented for transfer learning. For example, we can get better training and prediction by giving the generator the additional shape context from the 3D scans.\n",
    "\n",
    "Pretrained models are loaded by setting `--restore_checkpoints=True` and `--output_file_dir=`\n",
    "\n",
    "`/dli/data/img2img2_2d` image modality 1 -> 2 in 2d, use with `pix2pix2d.py`\n",
    "\n",
    "`/dli/data/img2label_2d` image -> segmentation in 2d, use with `pix2pix2d.py`\n",
    "\n",
    "`/dli/data/img2img2_4d` image modality 1 -> 2 in 3d, use with `pix2pix3d.py`\n",
    "\n",
    "`/dli/data/img2seg_4d` image -> segmentation in 3d, use with `pix2pix3d.py`\n",
    "\n",
    "Be sure to match these models with data of the appropriate type, found in the flags `data_dir_A` and `_B` in the cells above."
   ]
  },
  {
   "cell_type": "markdown",
   "metadata": {},
   "source": [
    "The pix2pix by default uses U-Net (https://arxiv.org/abs/1505.04597) architecture for its generator.\n",
    "We can change the generator to use ResNet (https://arxiv.org/abs/1512.03385) architecture with the following flag,\n",
    "\n",
    "`--generator_type=resnet`\n",
    "\n",
    "We have translated the images from one modality to another, and attached DWI images to the stroke segmentation label to make loss more reasonable while balancing the target.\n",
    "\n",
    "Can we try sampling an equal number of patches on stroke vs. not-stroke to make them balanced?\n",
    "\n",
    "`--sample_balanced=True`\n",
    "\n",
    "This method takes a long time to train, since it takes a lot of time to sample during training.\n",
    "\n",
    "Can we make more synthetic images so we can increase the dataset, as in https://arxiv.org/abs/1807.10225?\n",
    "\n",
    "<img src=\"GAN5.png\">"
   ]
  },
  {
   "cell_type": "markdown",
   "metadata": {},
   "source": [
    "## Next steps\n",
    "Once you've trained your own dataset, convert to the format suitable for the ISLES challenge and upload your own result to participate in the ISLES challenge!\n",
    "\n",
    "For final evaluation for submission to ISLES challenge, use the flags:\n",
    "    \n",
    "`--restore_checkpoints=True`\n",
    "\n",
    "`--train_or_test=test`\n",
    "\n",
    "This will turn off training so it only does inference to generate results. Also, be sure to set `--test_data_dir_A` to the appropriate directory for the test set for the challenge.\n",
    "\n",
    "You can find the code used in this lab at:\n",
    "\n",
    "https://github.com/khcs/brain-synthesis-lesion-segmentation/blob/master/utils/merge_2d_test_to_nii.py\n",
    "\n",
    "https://github.com/khcs/brain-synthesis-lesion-segmentation/blob/master/utils/convert_3d_test_to_nii.py"
   ]
  },
  {
   "cell_type": "code",
   "execution_count": null,
   "metadata": {},
   "outputs": [],
   "source": []
  }
 ],
 "metadata": {
  "kernelspec": {
   "display_name": "Python 3",
   "language": "python",
   "name": "python3"
  },
  "language_info": {
   "codemirror_mode": {
    "name": "ipython",
    "version": 3
   },
   "file_extension": ".py",
   "mimetype": "text/x-python",
   "name": "python",
   "nbconvert_exporter": "python",
   "pygments_lexer": "ipython3",
   "version": "3.5.2"
  }
 },
 "nbformat": 4,
 "nbformat_minor": 2
}
